{
 "cells": [
  {
   "cell_type": "code",
   "execution_count": 3,
   "id": "e14aac01-2e5b-497e-bc38-552ac3bd3f2b",
   "metadata": {},
   "outputs": [
    {
     "name": "stderr",
     "output_type": "stream",
     "text": [
      "C:\\Users\\UNIQUE ENVICARE 1\\anaconda3\\Lib\\site-packages\\sklearn\\utils\\extmath.py:1137: RuntimeWarning: invalid value encountered in divide\n",
      "  updated_mean = (last_sum + new_sum) / updated_sample_count\n",
      "C:\\Users\\UNIQUE ENVICARE 1\\anaconda3\\Lib\\site-packages\\sklearn\\utils\\extmath.py:1142: RuntimeWarning: invalid value encountered in divide\n",
      "  T = new_sum / new_sample_count\n",
      "C:\\Users\\UNIQUE ENVICARE 1\\anaconda3\\Lib\\site-packages\\sklearn\\utils\\extmath.py:1162: RuntimeWarning: invalid value encountered in divide\n",
      "  new_unnormalized_variance -= correction**2 / new_sample_count\n"
     ]
    },
    {
     "name": "stdout",
     "output_type": "stream",
     "text": [
      "Model trained and saved at model_assets/heart_rf_pipeline.joblib\n"
     ]
    }
   ],
   "source": [
    "import os\n",
    "import pandas as pd\n",
    "import numpy as np\n",
    "import joblib\n",
    "from sklearn.model_selection import train_test_split\n",
    "from sklearn.preprocessing import StandardScaler\n",
    "from sklearn.ensemble import RandomForestClassifier\n",
    "from sklearn.pipeline import Pipeline\n",
    "\n",
    "# --- Step 1: Load Dataset ---\n",
    "DATA_PATH = r\"C:\\Users\\UNIQUE ENVICARE 1\\Downloads\\heart_disease_uci.csv\"  # <-- apna sahi path daalo\n",
    "\n",
    "if not os.path.exists(DATA_PATH):\n",
    "    raise FileNotFoundError(f\"Dataset not found at {DATA_PATH}\")\n",
    "\n",
    "df = pd.read_csv(DATA_PATH)\n",
    "\n",
    "# --- Step 2: Clean Dataset ---\n",
    "df.replace('?', np.nan, inplace=True)\n",
    "for col in df.columns:\n",
    "    df[col] = pd.to_numeric(df[col], errors='coerce')\n",
    "\n",
    "# If 'target' column missing, assume last column is target\n",
    "if 'target' not in df.columns:\n",
    "    df.rename(columns={df.columns[-1]: 'target'}, inplace=True)\n",
    "\n",
    "# Drop rows with missing target\n",
    "df.dropna(subset=['target'], inplace=True)\n",
    "df['target'] = (df['target'] > 0).astype(int)\n",
    "\n",
    "# Fill missing values in features\n",
    "df.fillna(df.median(numeric_only=True), inplace=True)\n",
    "\n",
    "# --- Step 3: Split Data ---\n",
    "X = df.drop('target', axis=1)\n",
    "y = df['target']\n",
    "X_train, X_test, y_train, y_test = train_test_split(X, y, test_size=0.2, random_state=42)\n",
    "\n",
    "# --- Step 4: Pipeline (Scaler + RandomForest) ---\n",
    "pipeline = Pipeline([\n",
    "    ('scaler', StandardScaler()),\n",
    "    ('rf', RandomForestClassifier(n_estimators=300, random_state=42))\n",
    "])\n",
    "\n",
    "pipeline.fit(X_train, y_train)\n",
    "\n",
    "# --- Step 5: Save Model ---\n",
    "os.makedirs('model_assets', exist_ok=True)\n",
    "MODEL_PATH = 'model_assets/heart_rf_pipeline.joblib'\n",
    "joblib.dump(pipeline, MODEL_PATH)\n",
    "\n",
    "print(f\"Model trained and saved at {MODEL_PATH}\")\n"
   ]
  },
  {
   "cell_type": "code",
   "execution_count": null,
   "id": "9a173783-5964-40ef-a857-b6478d4f060c",
   "metadata": {},
   "outputs": [],
   "source": []
  }
 ],
 "metadata": {
  "kernelspec": {
   "display_name": "Python 3 (ipykernel)",
   "language": "python",
   "name": "python3"
  },
  "language_info": {
   "codemirror_mode": {
    "name": "ipython",
    "version": 3
   },
   "file_extension": ".py",
   "mimetype": "text/x-python",
   "name": "python",
   "nbconvert_exporter": "python",
   "pygments_lexer": "ipython3",
   "version": "3.12.4"
  }
 },
 "nbformat": 4,
 "nbformat_minor": 5
}
