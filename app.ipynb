{
 "cells": [
  {
   "cell_type": "code",
   "execution_count": 25,
   "id": "37aecf17-e6ee-4b88-a315-67ffd3cf61de",
   "metadata": {},
   "outputs": [
    {
     "name": "stdout",
     "output_type": "stream",
     "text": [
      "Model trained with features: ['id' 'age' 'sex' 'dataset' 'cp' 'trestbps' 'chol' 'fbs' 'restecg'\n",
      " 'thalch' 'exang' 'oldpeak' 'slope' 'ca' 'thal']\n",
      "Prediction: 0 | Probability: 27.0\n"
     ]
    }
   ],
   "source": [
    "import joblib\n",
    "import pandas as pd\n",
    "import os\n",
    "\n",
    "# Model path\n",
    "MODEL_PATH = 'model_assets/heart_rf_pipeline.joblib'\n",
    "\n",
    "# Check if model exists\n",
    "if not os.path.exists(MODEL_PATH):\n",
    "    raise FileNotFoundError(f\"Model file not found at {MODEL_PATH}. Run training script first.\")\n",
    "\n",
    "# Load the trained pipeline\n",
    "model = joblib.load(MODEL_PATH)\n",
    "\n",
    "# Check model feature names\n",
    "print(\"Model trained with features:\", model.feature_names_in_)\n",
    "\n",
    "# Sample input (update values as needed)\n",
    "sample = {\n",
    "    'age': 53, 'sex': 1, 'cp': 0, 'trestbps': 123, 'chol': 210,\n",
    "    'fbs': 0, 'restecg': 0, 'thalach': 166, 'exang': 0,\n",
    "    'oldpeak': 0.1, 'slope': 0, 'ca': 0, 'thal': 0\n",
    "}\n",
    "\n",
    "\n",
    "# Convert to DataFrame\n",
    "df = pd.DataFrame([sample])\n",
    "\n",
    "# Fix feature names: add missing columns with 0\n",
    "for col in model.feature_names_in_:\n",
    "    if col not in df.columns:\n",
    "        df[col] = 0\n",
    "\n",
    "# Reorder columns to match training\n",
    "df = df[model.feature_names_in_]\n",
    "\n",
    "# Prediction\n",
    "proba = model.predict_proba(df)[0, 1]\n",
    "pred = int(proba >= 0.5)\n",
    "\n",
    "print(\"Prediction:\", pred, \"| Probability:\", proba*100)\n"
   ]
  },
  {
   "cell_type": "code",
   "execution_count": null,
   "id": "79c59b47-8b0b-4682-be4f-70c10fa4d1f1",
   "metadata": {},
   "outputs": [],
   "source": []
  }
 ],
 "metadata": {
  "kernelspec": {
   "display_name": "Python 3 (ipykernel)",
   "language": "python",
   "name": "python3"
  },
  "language_info": {
   "codemirror_mode": {
    "name": "ipython",
    "version": 3
   },
   "file_extension": ".py",
   "mimetype": "text/x-python",
   "name": "python",
   "nbconvert_exporter": "python",
   "pygments_lexer": "ipython3",
   "version": "3.12.4"
  }
 },
 "nbformat": 4,
 "nbformat_minor": 5
}
